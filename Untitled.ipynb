{
 "cells": [
  {
   "cell_type": "code",
   "execution_count": 9,
   "id": "0451a537-f21d-456f-93ca-d60f14320a38",
   "metadata": {},
   "outputs": [
    {
     "name": "stdout",
     "output_type": "stream",
     "text": [
      "    1,200.00\n",
      "       12.00\n",
      "      100.00\n"
     ]
    }
   ],
   "source": [
    "salaries = [1200,12,100]\n",
    "for salary in salaries:\n",
    "    salary = \"{:12,.2f}\".format(salary)\n",
    "    print(salary)"
   ]
  },
  {
   "cell_type": "code",
   "execution_count": 21,
   "id": "95198c02-653d-4f75-a6e7-ed833641be97",
   "metadata": {},
   "outputs": [
    {
     "name": "stdin",
     "output_type": "stream",
     "text": [
      "Rows: 4\n"
     ]
    },
    {
     "name": "stdout",
     "output_type": "stream",
     "text": [
      "1\n",
      "12\n",
      "123\n",
      "1234\n"
     ]
    }
   ],
   "source": [
    "n = int(input(\"Rows:\"))\n",
    "for i in range(1, n+1 ):\n",
    "    for j in range(1, i+1):\n",
    "        print(j,end=\"\")\n",
    "    print()"
   ]
  },
  {
   "cell_type": "code",
   "execution_count": 26,
   "id": "1b4406f3-36df-4be2-89f4-1bc4da55bf32",
   "metadata": {},
   "outputs": [
    {
     "name": "stdout",
     "output_type": "stream",
     "text": [
      "7\n"
     ]
    }
   ],
   "source": [
    "number = int(70)\n",
    "number //=10\n",
    "print(number)"
   ]
  },
  {
   "cell_type": "code",
   "execution_count": null,
   "id": "2384db2d-997e-4f15-b51e-5396fc4a656c",
   "metadata": {},
   "outputs": [],
   "source": []
  }
 ],
 "metadata": {
  "kernelspec": {
   "display_name": "Python 3 (ipykernel)",
   "language": "python",
   "name": "python3"
  },
  "language_info": {
   "codemirror_mode": {
    "name": "ipython",
    "version": 3
   },
   "file_extension": ".py",
   "mimetype": "text/x-python",
   "name": "python",
   "nbconvert_exporter": "python",
   "pygments_lexer": "ipython3",
   "version": "3.10.6"
  }
 },
 "nbformat": 4,
 "nbformat_minor": 5
}
